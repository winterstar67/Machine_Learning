{
 "cells": [
  {
   "cell_type": "markdown",
   "id": "33980055-4ce0-4797-b0c7-da24efad54c2",
   "metadata": {
    "tags": []
   },
   "source": [
    "# ML Grid search template\n",
    "\n",
    "### written on 2022-12-27"
   ]
  },
  {
   "cell_type": "markdown",
   "id": "335d1c4e-750b-489f-a4cc-9f174ec67c2a",
   "metadata": {},
   "source": [
    "#### `For Personal use` (Might be inefficient)"
   ]
  },
  {
   "cell_type": "markdown",
   "id": "339df969-9ba1-41ee-bb52-f5e09545e6ad",
   "metadata": {},
   "source": []
  },
  {
   "cell_type": "markdown",
   "id": "cb515a4a-0a7f-4a71-85a8-a2f4102022e4",
   "metadata": {
    "tags": []
   },
   "source": [
    "## Grid search template"
   ]
  },
  {
   "cell_type": "markdown",
   "id": "6c02941c-bdcf-4654-a5e9-3a09ed1d9431",
   "metadata": {},
   "source": [
    "model example: LogisticRegressionCV() $\\rightarrow$ `Could be changed to another sklearn model if needed`"
   ]
  },
  {
   "cell_type": "code",
   "execution_count": 49,
   "id": "f4736d50-ab01-42d0-a8f8-50b9fe016221",
   "metadata": {},
   "outputs": [],
   "source": [
    "from sklearn.linear_model import LogisticRegressionCV, RidgeClassifier"
   ]
  },
  {
   "cell_type": "code",
   "execution_count": 50,
   "id": "987f3234-442c-4828-ae98-e970d374cf4a",
   "metadata": {
    "scrolled": true,
    "tags": []
   },
   "outputs": [
    {
     "name": "stdout",
     "output_type": "stream",
     "text": [
      "cv is 2, Cs is 1, penalty is l2, fit_intercept is True  F1 (model train):  27.74\n",
      "cv is 2, Cs is 1, penalty is l2, fit_intercept is True  F1 (model test):  24.42\n",
      "\n",
      "\n",
      "cv is 2, Cs is 1, penalty is l2, fit_intercept is False  F1 (model train):  58.85\n",
      "cv is 2, Cs is 1, penalty is l2, fit_intercept is False  F1 (model test):  55.27\n",
      "\n",
      "\n",
      "cv is 2, Cs is 10, penalty is l2, fit_intercept is True  F1 (model train):  97.26\n",
      "cv is 2, Cs is 10, penalty is l2, fit_intercept is True  F1 (model test):  95.60\n",
      "\n",
      "\n",
      "cv is 2, Cs is 10, penalty is l2, fit_intercept is False  F1 (model train):  98.92\n",
      "cv is 2, Cs is 10, penalty is l2, fit_intercept is False  F1 (model test):  94.48\n",
      "\n",
      "\n",
      "cv is 3, Cs is 1, penalty is l2, fit_intercept is True  F1 (model train):  27.74\n",
      "cv is 3, Cs is 1, penalty is l2, fit_intercept is True  F1 (model test):  24.42\n",
      "\n",
      "\n",
      "cv is 3, Cs is 1, penalty is l2, fit_intercept is False  F1 (model train):  58.85\n",
      "cv is 3, Cs is 1, penalty is l2, fit_intercept is False  F1 (model test):  55.27\n",
      "\n",
      "\n",
      "cv is 3, Cs is 10, penalty is l2, fit_intercept is True  F1 (model train):  98.92\n",
      "cv is 3, Cs is 10, penalty is l2, fit_intercept is True  F1 (model test):  95.60\n",
      "\n",
      "\n",
      "cv is 3, Cs is 10, penalty is l2, fit_intercept is False  F1 (model train):  98.92\n",
      "cv is 3, Cs is 10, penalty is l2, fit_intercept is False  F1 (model test):  94.48\n",
      "\n",
      "\n",
      "cv is 4, Cs is 1, penalty is l2, fit_intercept is True  F1 (model train):  27.74\n",
      "cv is 4, Cs is 1, penalty is l2, fit_intercept is True  F1 (model test):  24.42\n",
      "\n",
      "\n",
      "cv is 4, Cs is 1, penalty is l2, fit_intercept is False  F1 (model train):  58.85\n",
      "cv is 4, Cs is 1, penalty is l2, fit_intercept is False  F1 (model test):  55.27\n",
      "\n",
      "\n",
      "cv is 4, Cs is 10, penalty is l2, fit_intercept is True  F1 (model train):  100.00\n",
      "cv is 4, Cs is 10, penalty is l2, fit_intercept is True  F1 (model test):  89.53\n",
      "\n",
      "\n",
      "cv is 4, Cs is 10, penalty is l2, fit_intercept is False  F1 (model train):  100.00\n",
      "cv is 4, Cs is 10, penalty is l2, fit_intercept is False  F1 (model test):  86.37\n",
      "\n",
      "\n",
      "cv is 5, Cs is 1, penalty is l2, fit_intercept is True  F1 (model train):  27.74\n",
      "cv is 5, Cs is 1, penalty is l2, fit_intercept is True  F1 (model test):  24.42\n",
      "\n",
      "\n",
      "cv is 5, Cs is 1, penalty is l2, fit_intercept is False  F1 (model train):  58.85\n",
      "cv is 5, Cs is 1, penalty is l2, fit_intercept is False  F1 (model test):  55.27\n",
      "\n",
      "\n",
      "cv is 5, Cs is 10, penalty is l2, fit_intercept is True  F1 (model train):  98.92\n",
      "cv is 5, Cs is 10, penalty is l2, fit_intercept is True  F1 (model test):  95.60\n",
      "\n",
      "\n",
      "cv is 5, Cs is 10, penalty is l2, fit_intercept is False  F1 (model train):  98.92\n",
      "cv is 5, Cs is 10, penalty is l2, fit_intercept is False  F1 (model test):  94.48\n",
      "\n",
      "\n",
      "cv is 6, Cs is 1, penalty is l2, fit_intercept is True  F1 (model train):  27.74\n",
      "cv is 6, Cs is 1, penalty is l2, fit_intercept is True  F1 (model test):  24.42\n",
      "\n",
      "\n",
      "cv is 6, Cs is 1, penalty is l2, fit_intercept is False  F1 (model train):  58.85\n",
      "cv is 6, Cs is 1, penalty is l2, fit_intercept is False  F1 (model test):  55.27\n",
      "\n",
      "\n",
      "cv is 6, Cs is 10, penalty is l2, fit_intercept is True  F1 (model train):  100.00\n",
      "cv is 6, Cs is 10, penalty is l2, fit_intercept is True  F1 (model test):  89.53\n",
      "\n",
      "\n",
      "cv is 6, Cs is 10, penalty is l2, fit_intercept is False  F1 (model train):  97.28\n",
      "cv is 6, Cs is 10, penalty is l2, fit_intercept is False  F1 (model test):  94.48\n",
      "\n",
      "\n",
      "cv is 7, Cs is 1, penalty is l2, fit_intercept is True  F1 (model train):  27.74\n",
      "cv is 7, Cs is 1, penalty is l2, fit_intercept is True  F1 (model test):  24.42\n",
      "\n",
      "\n",
      "cv is 7, Cs is 1, penalty is l2, fit_intercept is False  F1 (model train):  58.85\n",
      "cv is 7, Cs is 1, penalty is l2, fit_intercept is False  F1 (model test):  55.27\n",
      "\n",
      "\n",
      "cv is 7, Cs is 10, penalty is l2, fit_intercept is True  F1 (model train):  98.92\n",
      "cv is 7, Cs is 10, penalty is l2, fit_intercept is True  F1 (model test):  95.60\n",
      "\n",
      "\n",
      "cv is 7, Cs is 10, penalty is l2, fit_intercept is False  F1 (model train):  98.92\n",
      "cv is 7, Cs is 10, penalty is l2, fit_intercept is False  F1 (model test):  94.48\n",
      "\n",
      "\n",
      "cv is 8, Cs is 1, penalty is l2, fit_intercept is True  F1 (model train):  27.74\n",
      "cv is 8, Cs is 1, penalty is l2, fit_intercept is True  F1 (model test):  24.42\n",
      "\n",
      "\n",
      "cv is 8, Cs is 1, penalty is l2, fit_intercept is False  F1 (model train):  58.85\n",
      "cv is 8, Cs is 1, penalty is l2, fit_intercept is False  F1 (model test):  55.27\n",
      "\n",
      "\n",
      "cv is 8, Cs is 10, penalty is l2, fit_intercept is True  F1 (model train):  98.92\n",
      "cv is 8, Cs is 10, penalty is l2, fit_intercept is True  F1 (model test):  95.60\n",
      "\n",
      "\n",
      "cv is 8, Cs is 10, penalty is l2, fit_intercept is False  F1 (model train):  98.92\n",
      "cv is 8, Cs is 10, penalty is l2, fit_intercept is False  F1 (model test):  94.48\n",
      "\n",
      "\n",
      "cv is 9, Cs is 1, penalty is l2, fit_intercept is True  F1 (model train):  27.74\n",
      "cv is 9, Cs is 1, penalty is l2, fit_intercept is True  F1 (model test):  24.42\n",
      "\n",
      "\n",
      "cv is 9, Cs is 1, penalty is l2, fit_intercept is False  F1 (model train):  58.85\n",
      "cv is 9, Cs is 1, penalty is l2, fit_intercept is False  F1 (model test):  55.27\n",
      "\n",
      "\n",
      "cv is 9, Cs is 10, penalty is l2, fit_intercept is True  F1 (model train):  98.92\n",
      "cv is 9, Cs is 10, penalty is l2, fit_intercept is True  F1 (model test):  94.48\n",
      "\n",
      "\n",
      "cv is 9, Cs is 10, penalty is l2, fit_intercept is False  F1 (model train):  98.92\n",
      "cv is 9, Cs is 10, penalty is l2, fit_intercept is False  F1 (model test):  94.48\n",
      "\n",
      "\n"
     ]
    }
   ],
   "source": [
    "best_test = [0]\n",
    "best_train = [0]\n",
    "best_description = [\"Nothing\"]\n",
    "\n",
    "A = \"cv\" # `Could be changed to another sklearn model if needed`\n",
    "B = \"Cs\" # `Could be changed to another sklearn model if needed`\n",
    "C = \"penalty\" # `Could be changed to another sklearn model if needed`\n",
    "D = \"fit_intercept\" # `Could be changed to another sklearn model if needed`\n",
    "\n",
    "c = 0\n",
    "for i in range(2,10): # `Could be changed to another sklearn model if needed`\n",
    "    for j in [1,10]: # `Could be changed to another sklearn model if needed`\n",
    "        for k in ['l2']: # `Could be changed to another sklearn model if needed`\n",
    "            for q in [True, False]: # `Could be changed to another sklearn model if needed`\n",
    "                model = LogisticRegressionCV(cv = i, Cs = j, penalty = k, fit_intercept = q) # `Could be changed to another sklearn model if needed`\n",
    "                model.fit(train_x_train, train_y_train)\n",
    "                model_pred_train = model.predict(train_x_train)\n",
    "                model_pred_test = model.predict(train_x_test)\n",
    "                model_f1_train = f1_score(train_y_train, model_pred_train, average='macro')\n",
    "                model_f1_test = f1_score(train_y_test, model_pred_test, average='macro')\n",
    "                print(f\"{A} is {i}, {B} is {j}, {C} is {k}, {D} is {q} \",'F1 (model train): ', \"%.2f\" % (model_f1_train*100))\n",
    "                print(f\"{A} is {i}, {B} is {j}, {C} is {k}, {D} is {q} \",'F1 (model test): ', \"%.2f\" % (model_f1_test*100))\n",
    "                print(\"\\n\")\n",
    "                if(best_test[c]<=model_f1_test):\n",
    "                    best_description.append(f\"best setting: {A}={i}, {B}={j}, {C}='{k}', {D}={q}, {model_f1_test}\")\n",
    "                    best_test.append(model_f1_test)\n",
    "                    best_train.append(model_f1_train)\n",
    "                    c += 1"
   ]
  },
  {
   "cell_type": "code",
   "execution_count": 51,
   "id": "3e6f6d28-eca3-4603-a9ff-b726d460c5b0",
   "metadata": {},
   "outputs": [
    {
     "data": {
      "text/plain": [
       "[0,\n",
       " 0.24415720067893984,\n",
       " 0.5526876224550644,\n",
       " 0.955988455988456,\n",
       " 0.955988455988456,\n",
       " 0.955988455988456,\n",
       " 0.955988455988456,\n",
       " 0.955988455988456]"
      ]
     },
     "execution_count": 51,
     "metadata": {},
     "output_type": "execute_result"
    }
   ],
   "source": [
    "best_test"
   ]
  },
  {
   "cell_type": "code",
   "execution_count": 52,
   "id": "9bf4644a-9ea7-4099-812d-41a8e8afe626",
   "metadata": {},
   "outputs": [
    {
     "data": {
      "text/plain": [
       "['Nothing',\n",
       " \"best setting: cv=2, Cs=1, penalty='l2', fit_intercept=True, 0.24415720067893984\",\n",
       " \"best setting: cv=2, Cs=1, penalty='l2', fit_intercept=False, 0.5526876224550644\",\n",
       " \"best setting: cv=2, Cs=10, penalty='l2', fit_intercept=True, 0.955988455988456\",\n",
       " \"best setting: cv=3, Cs=10, penalty='l2', fit_intercept=True, 0.955988455988456\",\n",
       " \"best setting: cv=5, Cs=10, penalty='l2', fit_intercept=True, 0.955988455988456\",\n",
       " \"best setting: cv=7, Cs=10, penalty='l2', fit_intercept=True, 0.955988455988456\",\n",
       " \"best setting: cv=8, Cs=10, penalty='l2', fit_intercept=True, 0.955988455988456\"]"
      ]
     },
     "execution_count": 52,
     "metadata": {},
     "output_type": "execute_result"
    }
   ],
   "source": [
    "best_description"
   ]
  },
  {
   "cell_type": "code",
   "execution_count": 53,
   "id": "63edfc59-25c9-496d-bebd-9fc91ce6f2bb",
   "metadata": {},
   "outputs": [
    {
     "data": {
      "text/plain": [
       "[0,\n",
       " 0.2773633659987324,\n",
       " 0.5884638854096412,\n",
       " 0.9725942074120212,\n",
       " 0.9891812146545366,\n",
       " 0.9891812146545366,\n",
       " 0.9891812146545366,\n",
       " 0.9891812146545366]"
      ]
     },
     "execution_count": 53,
     "metadata": {},
     "output_type": "execute_result"
    }
   ],
   "source": [
    "best_train"
   ]
  },
  {
   "cell_type": "code",
   "execution_count": 55,
   "id": "1654c5f2-37a3-49ae-af7e-f04d84f2b260",
   "metadata": {},
   "outputs": [
    {
     "data": {
      "text/plain": [
       "LogisticRegressionCV(cv=8)"
      ]
     },
     "execution_count": 55,
     "metadata": {},
     "output_type": "execute_result"
    }
   ],
   "source": [
    "LogisticRegressionCV(cv=8, Cs=10, penalty='l2', fit_intercept=True,) # copy and paste from best_description"
   ]
  },
  {
   "cell_type": "markdown",
   "id": "9979f8f5-933b-4449-97a6-34ca80099225",
   "metadata": {},
   "source": [
    "- Might be something's wrong on the model setting. \n",
    "\n",
    "But it's not for model setting. This is for grid search template"
   ]
  }
 ],
 "metadata": {
  "kernelspec": {
   "display_name": "Python 3 (ipykernel)",
   "language": "python",
   "name": "python3"
  },
  "language_info": {
   "codemirror_mode": {
    "name": "ipython",
    "version": 3
   },
   "file_extension": ".py",
   "mimetype": "text/x-python",
   "name": "python",
   "nbconvert_exporter": "python",
   "pygments_lexer": "ipython3",
   "version": "3.9.12"
  }
 },
 "nbformat": 4,
 "nbformat_minor": 5
}
